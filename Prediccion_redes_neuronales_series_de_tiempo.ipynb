{
  "nbformat": 4,
  "nbformat_minor": 0,
  "metadata": {
    "colab": {
      "provenance": [],
      "mount_file_id": "1Uggrt2Eitv-DIWp0ipC5pb5j_hR9oH7m",
      "authorship_tag": "ABX9TyPp6E9GzxgCT3pGH4w7qhyP",
      "include_colab_link": true
    },
    "kernelspec": {
      "name": "python3",
      "display_name": "Python 3"
    },
    "language_info": {
      "name": "python"
    }
  },
  "cells": [
    {
      "cell_type": "markdown",
      "metadata": {
        "id": "view-in-github",
        "colab_type": "text"
      },
      "source": [
        "<a href=\"https://colab.research.google.com/github/ArnoldoOliva/DeepL_clase/blob/main/Prediccion_redes_neuronales_series_de_tiempo.ipynb\" target=\"_parent\"><img src=\"https://colab.research.google.com/assets/colab-badge.svg\" alt=\"Open In Colab\"/></a>"
      ]
    },
    {
      "cell_type": "code",
      "execution_count": 1,
      "metadata": {
        "id": "xZCWsqVFkiEs"
      },
      "outputs": [],
      "source": [
        "\n",
        "#PASO 0. INSTALACION DE LIBRERIAS\n",
        "import pandas as pd\n",
        "import numpy as np\n",
        "import matplotlib.pyplot as plt\n",
        "from pandas import read_csv\n",
        "from matplotlib import pyplot\n",
        "from numpy import array\n",
        "\n",
        "\n",
        "from sklearn.model_selection import train_test_split\n",
        "from keras.models import Sequential\n",
        "from keras.layers import Dense\n"
      ]
    },
    {
      "cell_type": "code",
      "source": [
        "serieP=array([10,25,23,14,25,23,14,85,14,36])\n",
        "print(serieP)\n",
        "\n",
        "def DescomponerSerie(serie,longitud):\n",
        "    global X, y\n",
        "    X, y=list(), list()\n",
        "    for i in range(len(serie)):\n",
        "        final=i+longitud\n",
        "        if final > len(serie)-1:\n",
        "            break\n",
        "        historia_x, target_y=serie[i:final], serie[final]\n",
        "        X.append(historia_x)\n",
        "        y.append(target_y)\n",
        "    return array(X), array(y)\n",
        "\n",
        "\n",
        "DescomponerSerie(serieP,3)\n"
      ],
      "metadata": {
        "colab": {
          "base_uri": "https://localhost:8080/"
        },
        "id": "pU4MtNsElB-N",
        "outputId": "77e33e72-039b-44b1-87d9-20081a98377b"
      },
      "execution_count": 2,
      "outputs": [
        {
          "output_type": "stream",
          "name": "stdout",
          "text": [
            "[10 25 23 14 25 23 14 85 14 36]\n"
          ]
        },
        {
          "output_type": "execute_result",
          "data": {
            "text/plain": [
              "(array([[10, 25, 23],\n",
              "        [25, 23, 14],\n",
              "        [23, 14, 25],\n",
              "        [14, 25, 23],\n",
              "        [25, 23, 14],\n",
              "        [23, 14, 85],\n",
              "        [14, 85, 14]]),\n",
              " array([14, 25, 23, 14, 85, 14, 36]))"
            ]
          },
          "metadata": {},
          "execution_count": 2
        }
      ]
    },
    {
      "cell_type": "code",
      "source": [
        "for i in range(len(X)):\n",
        "    print(X[i], y[i])"
      ],
      "metadata": {
        "colab": {
          "base_uri": "https://localhost:8080/"
        },
        "id": "uUG1Dmk9lIAM",
        "outputId": "dc072799-2d70-4090-94cc-fc8ead153bb4"
      },
      "execution_count": 3,
      "outputs": [
        {
          "output_type": "stream",
          "name": "stdout",
          "text": [
            "[10 25 23] 14\n",
            "[25 23 14] 25\n",
            "[23 14 25] 23\n",
            "[14 25 23] 14\n",
            "[25 23 14] 85\n",
            "[23 14 85] 14\n",
            "[14 85 14] 36\n"
          ]
        }
      ]
    },
    {
      "cell_type": "code",
      "source": [
        "from google.colab import drive\n",
        "drive.mount('/content/drive')"
      ],
      "metadata": {
        "colab": {
          "base_uri": "https://localhost:8080/"
        },
        "id": "WBYLtClJYmU3",
        "outputId": "d7c7757f-981e-4f85-87d2-becaa887244c"
      },
      "execution_count": 5,
      "outputs": [
        {
          "output_type": "stream",
          "name": "stdout",
          "text": [
            "Drive already mounted at /content/drive; to attempt to forcibly remount, call drive.mount(\"/content/drive\", force_remount=True).\n"
          ]
        }
      ]
    },
    {
      "cell_type": "code",
      "source": [
        "#PASO 1. LEER LA BASE DE DATOS\n",
        "inf = pd.read_csv(\"/content/INP_INP20230603145451.CSV\",usecols=[0, 1], skiprows=range(1, 14), encoding='latin-1')\n",
        "\n",
        "inf.rename(columns={\"Instituto Nacional de Estadística y Geografía\":\"Fecha\",\"Unnamed: 1\":\"inpc\"},inplace=True)\n",
        "#PP['Fecha'] = pd.to_datetime(PP['Fecha'], infer_datetime_format=True)\n",
        "inf.head()"
      ],
      "metadata": {
        "colab": {
          "base_uri": "https://localhost:8080/",
          "height": 206
        },
        "id": "9GgtDVsylMTb",
        "outputId": "2f8b88e8-c4e7-4c20-83a7-7f4032cec757"
      },
      "execution_count": 6,
      "outputs": [
        {
          "output_type": "execute_result",
          "data": {
            "text/plain": [
              "      Fecha  inpc\n",
              "0  Ene 2000  1.34\n",
              "1  Feb 2000  0.89\n",
              "2  Mar 2000  0.55\n",
              "3  Abr 2000  0.57\n",
              "4  May 2000  0.37"
            ],
            "text/html": [
              "\n",
              "  <div id=\"df-970c8fff-7723-4983-a14f-b00ece198b07\">\n",
              "    <div class=\"colab-df-container\">\n",
              "      <div>\n",
              "<style scoped>\n",
              "    .dataframe tbody tr th:only-of-type {\n",
              "        vertical-align: middle;\n",
              "    }\n",
              "\n",
              "    .dataframe tbody tr th {\n",
              "        vertical-align: top;\n",
              "    }\n",
              "\n",
              "    .dataframe thead th {\n",
              "        text-align: right;\n",
              "    }\n",
              "</style>\n",
              "<table border=\"1\" class=\"dataframe\">\n",
              "  <thead>\n",
              "    <tr style=\"text-align: right;\">\n",
              "      <th></th>\n",
              "      <th>Fecha</th>\n",
              "      <th>inpc</th>\n",
              "    </tr>\n",
              "  </thead>\n",
              "  <tbody>\n",
              "    <tr>\n",
              "      <th>0</th>\n",
              "      <td>Ene 2000</td>\n",
              "      <td>1.34</td>\n",
              "    </tr>\n",
              "    <tr>\n",
              "      <th>1</th>\n",
              "      <td>Feb 2000</td>\n",
              "      <td>0.89</td>\n",
              "    </tr>\n",
              "    <tr>\n",
              "      <th>2</th>\n",
              "      <td>Mar 2000</td>\n",
              "      <td>0.55</td>\n",
              "    </tr>\n",
              "    <tr>\n",
              "      <th>3</th>\n",
              "      <td>Abr 2000</td>\n",
              "      <td>0.57</td>\n",
              "    </tr>\n",
              "    <tr>\n",
              "      <th>4</th>\n",
              "      <td>May 2000</td>\n",
              "      <td>0.37</td>\n",
              "    </tr>\n",
              "  </tbody>\n",
              "</table>\n",
              "</div>\n",
              "      <button class=\"colab-df-convert\" onclick=\"convertToInteractive('df-970c8fff-7723-4983-a14f-b00ece198b07')\"\n",
              "              title=\"Convert this dataframe to an interactive table.\"\n",
              "              style=\"display:none;\">\n",
              "        \n",
              "  <svg xmlns=\"http://www.w3.org/2000/svg\" height=\"24px\"viewBox=\"0 0 24 24\"\n",
              "       width=\"24px\">\n",
              "    <path d=\"M0 0h24v24H0V0z\" fill=\"none\"/>\n",
              "    <path d=\"M18.56 5.44l.94 2.06.94-2.06 2.06-.94-2.06-.94-.94-2.06-.94 2.06-2.06.94zm-11 1L8.5 8.5l.94-2.06 2.06-.94-2.06-.94L8.5 2.5l-.94 2.06-2.06.94zm10 10l.94 2.06.94-2.06 2.06-.94-2.06-.94-.94-2.06-.94 2.06-2.06.94z\"/><path d=\"M17.41 7.96l-1.37-1.37c-.4-.4-.92-.59-1.43-.59-.52 0-1.04.2-1.43.59L10.3 9.45l-7.72 7.72c-.78.78-.78 2.05 0 2.83L4 21.41c.39.39.9.59 1.41.59.51 0 1.02-.2 1.41-.59l7.78-7.78 2.81-2.81c.8-.78.8-2.07 0-2.86zM5.41 20L4 18.59l7.72-7.72 1.47 1.35L5.41 20z\"/>\n",
              "  </svg>\n",
              "      </button>\n",
              "      \n",
              "  <style>\n",
              "    .colab-df-container {\n",
              "      display:flex;\n",
              "      flex-wrap:wrap;\n",
              "      gap: 12px;\n",
              "    }\n",
              "\n",
              "    .colab-df-convert {\n",
              "      background-color: #E8F0FE;\n",
              "      border: none;\n",
              "      border-radius: 50%;\n",
              "      cursor: pointer;\n",
              "      display: none;\n",
              "      fill: #1967D2;\n",
              "      height: 32px;\n",
              "      padding: 0 0 0 0;\n",
              "      width: 32px;\n",
              "    }\n",
              "\n",
              "    .colab-df-convert:hover {\n",
              "      background-color: #E2EBFA;\n",
              "      box-shadow: 0px 1px 2px rgba(60, 64, 67, 0.3), 0px 1px 3px 1px rgba(60, 64, 67, 0.15);\n",
              "      fill: #174EA6;\n",
              "    }\n",
              "\n",
              "    [theme=dark] .colab-df-convert {\n",
              "      background-color: #3B4455;\n",
              "      fill: #D2E3FC;\n",
              "    }\n",
              "\n",
              "    [theme=dark] .colab-df-convert:hover {\n",
              "      background-color: #434B5C;\n",
              "      box-shadow: 0px 1px 3px 1px rgba(0, 0, 0, 0.15);\n",
              "      filter: drop-shadow(0px 1px 2px rgba(0, 0, 0, 0.3));\n",
              "      fill: #FFFFFF;\n",
              "    }\n",
              "  </style>\n",
              "\n",
              "      <script>\n",
              "        const buttonEl =\n",
              "          document.querySelector('#df-970c8fff-7723-4983-a14f-b00ece198b07 button.colab-df-convert');\n",
              "        buttonEl.style.display =\n",
              "          google.colab.kernel.accessAllowed ? 'block' : 'none';\n",
              "\n",
              "        async function convertToInteractive(key) {\n",
              "          const element = document.querySelector('#df-970c8fff-7723-4983-a14f-b00ece198b07');\n",
              "          const dataTable =\n",
              "            await google.colab.kernel.invokeFunction('convertToInteractive',\n",
              "                                                     [key], {});\n",
              "          if (!dataTable) return;\n",
              "\n",
              "          const docLinkHtml = 'Like what you see? Visit the ' +\n",
              "            '<a target=\"_blank\" href=https://colab.research.google.com/notebooks/data_table.ipynb>data table notebook</a>'\n",
              "            + ' to learn more about interactive tables.';\n",
              "          element.innerHTML = '';\n",
              "          dataTable['output_type'] = 'display_data';\n",
              "          await google.colab.output.renderOutput(dataTable, element);\n",
              "          const docLink = document.createElement('div');\n",
              "          docLink.innerHTML = docLinkHtml;\n",
              "          element.appendChild(docLink);\n",
              "        }\n",
              "      </script>\n",
              "    </div>\n",
              "  </div>\n",
              "  "
            ]
          },
          "metadata": {},
          "execution_count": 6
        }
      ]
    },
    {
      "cell_type": "code",
      "source": [
        "\n",
        "inf.plot(x=\"Fecha\", y=\"inpc\",color=\"red\")"
      ],
      "metadata": {
        "colab": {
          "base_uri": "https://localhost:8080/",
          "height": 467
        },
        "id": "4n7orvfylN-J",
        "outputId": "c379df68-a4bf-411c-dfc0-ea696c2c2c76"
      },
      "execution_count": 7,
      "outputs": [
        {
          "output_type": "execute_result",
          "data": {
            "text/plain": [
              "<Axes: xlabel='Fecha'>"
            ]
          },
          "metadata": {},
          "execution_count": 7
        },
        {
          "output_type": "display_data",
          "data": {
            "text/plain": [
              "<Figure size 640x480 with 1 Axes>"
            ],
            "image/png": "[encoded data removed]"
          },
          "metadata": {}
        }
      ]
    },
    {
      "cell_type": "code",
      "source": [
        "seq = list(inf[\"inpc\"])\n",
        "print(seq)\n"
      ],
      "metadata": {
        "colab": {
          "base_uri": "https://localhost:8080/"
        },
        "id": "qJX-bDHzpQCH",
        "outputId": "6be6b90e-d729-42a3-cd2e-e91be9e53501"
      },
      "execution_count": 26,
      "outputs": [
        {
          "output_type": "stream",
          "name": "stdout",
          "text": [
            "[1.34, 0.89, 0.55, 0.57, 0.37, 0.59, 0.39, 0.55, 0.73, 0.69, 0.86, 1.08, 0.55, -0.07, 0.63, 0.5, 0.23, 0.24, -0.26, 0.59, 0.93, 0.45, 0.38, 0.14, 0.92, -0.06, 0.51, 0.55, 0.2, 0.49, 0.29, 0.38, 0.6, 0.44, 0.81, 0.44, 0.4, 0.28, 0.63, 0.17, -0.32, 0.08, 0.14, 0.3, 0.6, 0.37, 0.83, 0.43, 0.62, 0.6, 0.34, 0.15, -0.25, 0.16, 0.26, 0.62, 0.83, 0.69, 0.85, 0.21, 0.0, 0.33, 0.45, 0.36, -0.25, -0.1, 0.39, 0.12, 0.4, 0.25, 0.72, 0.61, 0.59, 0.15, 0.13, 0.15, -0.45, 0.09, 0.27, 0.51, 1.01, 0.44, 0.52, 0.58, 0.52, 0.28, 0.22, -0.06, -0.49, 0.12, 0.42, 0.41, 0.78, 0.39, 0.71, 0.41, 0.46, 0.3, 0.72, 0.23, -0.11, 0.41, 0.56, 0.58, 0.68, 0.68, 1.14, 0.69, 0.23, 0.22, 0.58, 0.35, -0.29, 0.18, 0.27, 0.24, 0.5, 0.3, 0.52, 0.41, 1.09, 0.58, 0.71, -0.32, -0.63, -0.03, 0.22, 0.28, 0.52, 0.62, 0.8, 0.5, 0.49, 0.38, 0.19, -0.01, -0.74, 0.0, 0.48, 0.16, 0.25, 0.67, 1.08, 0.82, 0.71, 0.2, 0.06, -0.31, -0.32, 0.46, 0.56, 0.3, 0.44, 0.51, 0.68, 0.23, 0.4, 0.49, 0.73, 0.07, -0.33, -0.06, -0.03, 0.28, 0.38, 0.48, 0.93, 0.57, 0.89, 0.25, 0.27, -0.19, -0.32, 0.17, 0.28, 0.36, 0.44, 0.55, 0.81, 0.49, -0.09, 0.19, 0.41, -0.26, -0.5, 0.17, 0.15, 0.21, 0.37, 0.51, 0.55, 0.41, 0.38, 0.44, 0.15, -0.32, -0.45, 0.11, 0.26, 0.28, 0.61, 0.61, 0.78, 0.46, 1.7, 0.58, 0.61, 0.12, -0.12, 0.25, 0.38, 0.49, 0.31, 0.63, 1.03, 0.59, 0.53, 0.38, 0.32, -0.34, -0.16, 0.39, 0.54, 0.58, 0.42, 0.52, 0.85, 0.7, 0.09, -0.03, 0.39, 0.05, -0.29, 0.06, 0.38, -0.02, 0.26, 0.54, 0.81, 0.56, 0.48, 0.42, -0.05, -1.01, 0.38, 0.55, 0.66, 0.39, 0.23, 0.61, 0.08, 0.38, 0.86, 0.63, 0.83, 0.33, 0.2, 0.53, 0.59, 0.19, 0.62, 0.84, 1.14, 0.36, 0.59, 0.83, 0.99, 0.54, 0.18, 0.84, 0.74, 0.7, 0.62, 0.57, 0.58, 0.38, 0.68, 0.56, 0.27, -0.02]\n"
          ]
        }
      ]
    },
    {
      "cell_type": "code",
      "source": [
        "X,y=DescomponerSerie(seq,20)\n"
      ],
      "metadata": {
        "id": "PSvPlWC9lWL4"
      },
      "execution_count": 27,
      "outputs": []
    },
    {
      "cell_type": "code",
      "source": [
        "# define model\n",
        "model = Sequential()\n",
        "model.add(Dense(10, activation='relu', input_dim=20))\n",
        "model.add(Dense(5))\n",
        "model.add(Dense(1))\n",
        "model.compile(loss='mean_squared_error', optimizer='SGD', metrics=['accuracy'])"
      ],
      "metadata": {
        "id": "YNmH3zQIlZHf"
      },
      "execution_count": 28,
      "outputs": []
    },
    {
      "cell_type": "code",
      "source": [
        "#TRAIN THE MODEL\n",
        "model.fit(X, y, epochs=10, batch_size=10)\n",
        "\n",
        "#PREDICCIONES`\n",
        "print(\"Generate predictions for 3 samples\")\n",
        "predictions = model.predict(X)\n",
        "print(\"predictions shape:\", predictions)\n"
      ],
      "metadata": {
        "id": "aeSd9hCQlnul",
        "colab": {
          "base_uri": "https://localhost:8080/"
        },
        "outputId": "20f43198-de1a-4480-bd7b-b5e96ec433f8"
      },
      "execution_count": 29,
      "outputs": [
        {
          "output_type": "stream",
          "name": "stdout",
          "text": [
            "Epoch 1/10\n",
            "26/26 [==============================] - 0s 1ms/step - loss: 0.2792 - accuracy: 0.0077\n",
            "Epoch 2/10\n",
            "26/26 [==============================] - 0s 997us/step - loss: 0.1641 - accuracy: 0.0077\n",
            "Epoch 3/10\n",
            "26/26 [==============================] - 0s 987us/step - loss: 0.1438 - accuracy: 0.0077\n",
            "Epoch 4/10\n",
            "26/26 [==============================] - 0s 1ms/step - loss: 0.1311 - accuracy: 0.0077\n",
            "Epoch 5/10\n",
            "26/26 [==============================] - 0s 988us/step - loss: 0.1235 - accuracy: 0.0077\n",
            "Epoch 6/10\n",
            "26/26 [==============================] - 0s 1ms/step - loss: 0.1189 - accuracy: 0.0077\n",
            "Epoch 7/10\n",
            "26/26 [==============================] - 0s 989us/step - loss: 0.1153 - accuracy: 0.0077\n",
            "Epoch 8/10\n",
            "26/26 [==============================] - 0s 1ms/step - loss: 0.1130 - accuracy: 0.0077\n",
            "Epoch 9/10\n",
            "26/26 [==============================] - 0s 1ms/step - loss: 0.1104 - accuracy: 0.0077\n",
            "Epoch 10/10\n",
            "26/26 [==============================] - 0s 962us/step - loss: 0.1092 - accuracy: 0.0077\n",
            "Generate predictions for 3 samples\n",
            "9/9 [==============================] - 0s 2ms/step\n",
            "predictions shape: [[ 0.22501785]\n",
            " [ 0.31144977]\n",
            " [ 0.58960223]\n",
            " [ 0.37365383]\n",
            " [ 0.2734089 ]\n",
            " [ 0.3519831 ]\n",
            " [ 0.18137395]\n",
            " [ 0.4766862 ]\n",
            " [ 0.56977785]\n",
            " [ 0.25258142]\n",
            " [ 0.42528218]\n",
            " [ 0.24522221]\n",
            " [ 0.2667667 ]\n",
            " [ 0.6366106 ]\n",
            " [ 0.47727558]\n",
            " [ 0.3176979 ]\n",
            " [ 0.33375427]\n",
            " [ 0.00811124]\n",
            " [ 0.23782441]\n",
            " [ 0.22899619]\n",
            " [ 0.43170312]\n",
            " [ 0.35624847]\n",
            " [ 0.23717365]\n",
            " [ 0.4600072 ]\n",
            " [ 0.26319018]\n",
            " [ 0.388992  ]\n",
            " [ 0.48704803]\n",
            " [ 0.28636575]\n",
            " [ 0.27421352]\n",
            " [ 0.2856619 ]\n",
            " [ 0.19737674]\n",
            " [ 0.18826501]\n",
            " [ 0.25405273]\n",
            " [ 0.17886388]\n",
            " [ 0.25543976]\n",
            " [ 0.49048918]\n",
            " [ 0.34582323]\n",
            " [ 0.5383315 ]\n",
            " [ 0.553105  ]\n",
            " [ 0.45059353]\n",
            " [ 0.38437364]\n",
            " [ 0.17190346]\n",
            " [ 0.18886301]\n",
            " [ 0.3004311 ]\n",
            " [ 0.28880382]\n",
            " [ 0.27331707]\n",
            " [ 0.27956358]\n",
            " [ 0.2897019 ]\n",
            " [ 0.4200351 ]\n",
            " [ 0.4367324 ]\n",
            " [ 0.6116873 ]\n",
            " [ 0.4442714 ]\n",
            " [ 0.40698355]\n",
            " [ 0.2977624 ]\n",
            " [ 0.27736267]\n",
            " [ 0.10744466]\n",
            " [ 0.24188493]\n",
            " [ 0.25275832]\n",
            " [ 0.20331742]\n",
            " [ 0.4915676 ]\n",
            " [ 0.70883393]\n",
            " [ 0.33352667]\n",
            " [ 0.39329454]\n",
            " [ 0.46152672]\n",
            " [ 0.2490216 ]\n",
            " [ 0.2730336 ]\n",
            " [ 0.21258602]\n",
            " [ 0.17121106]\n",
            " [ 0.22524801]\n",
            " [ 0.1781404 ]\n",
            " [ 0.34066793]\n",
            " [ 0.5079701 ]\n",
            " [ 0.6810833 ]\n",
            " [ 0.55182475]\n",
            " [ 0.689798  ]\n",
            " [ 0.1880941 ]\n",
            " [ 0.24618365]\n",
            " [ 0.24282058]\n",
            " [ 0.17660804]\n",
            " [ 0.12669785]\n",
            " [ 0.1442803 ]\n",
            " [ 0.24268165]\n",
            " [ 0.27127856]\n",
            " [ 0.4406357 ]\n",
            " [ 0.527269  ]\n",
            " [ 0.4066443 ]\n",
            " [ 0.66334665]\n",
            " [ 0.4855639 ]\n",
            " [ 0.39214945]\n",
            " [ 0.27085522]\n",
            " [ 0.15923172]\n",
            " [ 0.14280418]\n",
            " [ 0.36927277]\n",
            " [ 0.24974647]\n",
            " [ 0.30270502]\n",
            " [ 0.687554  ]\n",
            " [ 0.4296153 ]\n",
            " [ 0.40221444]\n",
            " [ 0.5055108 ]\n",
            " [ 0.5654632 ]\n",
            " [ 0.39997843]\n",
            " [ 0.36010596]\n",
            " [ 0.22172385]\n",
            " [ 0.289341  ]\n",
            " [ 0.19799906]\n",
            " [ 0.25778332]\n",
            " [ 0.15868576]\n",
            " [ 0.42936072]\n",
            " [ 0.6233978 ]\n",
            " [ 0.36753157]\n",
            " [ 0.5690392 ]\n",
            " [ 0.36898455]\n",
            " [ 0.31429654]\n",
            " [ 0.37902287]\n",
            " [ 0.3725241 ]\n",
            " [ 0.1565743 ]\n",
            " [ 0.31493235]\n",
            " [ 0.1325024 ]\n",
            " [ 0.35480046]\n",
            " [ 0.5692671 ]\n",
            " [ 0.4588959 ]\n",
            " [ 0.47572106]\n",
            " [ 0.5508398 ]\n",
            " [ 0.7501154 ]\n",
            " [ 0.44201532]\n",
            " [ 0.32810828]\n",
            " [ 0.16295381]\n",
            " [-0.1548732 ]\n",
            " [ 0.24385509]\n",
            " [ 0.25063202]\n",
            " [ 0.20283458]\n",
            " [ 0.7643454 ]\n",
            " [ 0.8547888 ]\n",
            " [ 0.4987603 ]\n",
            " [ 0.6823312 ]\n",
            " [ 0.8107115 ]\n",
            " [ 0.44378996]\n",
            " [ 0.2862793 ]\n",
            " [ 0.1637152 ]\n",
            " [ 0.07837009]\n",
            " [ 0.33757183]\n",
            " [ 0.3607215 ]\n",
            " [ 0.1928838 ]\n",
            " [ 0.479909  ]\n",
            " [ 0.30547917]\n",
            " [ 0.41317618]\n",
            " [ 0.74376726]\n",
            " [ 0.5992813 ]\n",
            " [ 0.37934163]\n",
            " [ 0.32131976]\n",
            " [ 0.20747565]\n",
            " [ 0.23746288]\n",
            " [ 0.18026522]\n",
            " [ 0.20160541]\n",
            " [ 0.22725953]\n",
            " [ 0.43886068]\n",
            " [ 0.47522184]\n",
            " [ 0.4741822 ]\n",
            " [ 0.5016601 ]\n",
            " [ 0.597713  ]\n",
            " [ 0.51520205]\n",
            " [ 0.27125812]\n",
            " [ 0.18393955]\n",
            " [ 0.02426886]\n",
            " [ 0.3032071 ]\n",
            " [ 0.3243277 ]\n",
            " [ 0.30267984]\n",
            " [ 0.5607642 ]\n",
            " [ 0.38715437]\n",
            " [ 0.379574  ]\n",
            " [ 0.598686  ]\n",
            " [ 0.58494055]\n",
            " [ 0.30828038]\n",
            " [ 0.26892188]\n",
            " [ 0.04763989]\n",
            " [ 0.14614815]\n",
            " [ 0.24195258]\n",
            " [ 0.22542593]\n",
            " [ 0.14675692]\n",
            " [ 0.6663023 ]\n",
            " [ 0.46651497]\n",
            " [ 0.40727535]\n",
            " [ 0.55051863]\n",
            " [ 0.45725355]\n",
            " [ 0.2797668 ]\n",
            " [ 0.2625172 ]\n",
            " [ 0.41141054]\n",
            " [ 0.28297934]\n",
            " [-0.04675238]\n",
            " [-0.05019635]\n",
            " [ 0.21693107]\n",
            " [ 0.35160634]\n",
            " [ 0.6578504 ]\n",
            " [ 0.70885193]\n",
            " [ 0.7746552 ]\n",
            " [ 0.78403723]\n",
            " [ 0.3896514 ]\n",
            " [ 0.5812664 ]\n",
            " [ 0.4948813 ]\n",
            " [ 0.12640989]\n",
            " [ 0.33311316]\n",
            " [ 0.23933467]\n",
            " [ 0.25067183]\n",
            " [ 0.66038465]\n",
            " [ 0.37966675]\n",
            " [ 0.34124514]\n",
            " [ 0.3451976 ]\n",
            " [ 0.4979395 ]\n",
            " [ 0.41990325]\n",
            " [ 0.23724294]\n",
            " [ 0.16695374]\n",
            " [-0.01055454]\n",
            " [ 0.26285166]\n",
            " [ 0.37070587]\n",
            " [ 0.33956578]\n",
            " [ 0.65516376]\n",
            " [ 0.46579257]\n",
            " [ 0.39474392]\n",
            " [ 0.4470785 ]\n",
            " [ 0.5949156 ]\n",
            " [ 0.54198647]\n",
            " [ 0.33306322]\n",
            " [ 0.04131372]\n",
            " [-0.06047165]\n",
            " [ 0.21350884]\n",
            " [ 0.28971717]\n",
            " [ 0.12578125]\n",
            " [ 0.8267982 ]\n",
            " [ 0.4828873 ]\n",
            " [ 0.31908062]\n",
            " [ 0.29762843]\n",
            " [ 0.24036545]\n",
            " [ 0.35512248]\n",
            " [ 0.43217596]\n",
            " [ 0.2833507 ]\n",
            " [ 0.336853  ]\n",
            " [ 0.13615727]\n",
            " [ 0.2898885 ]\n",
            " [ 0.35063484]\n",
            " [ 0.41984963]\n",
            " [ 0.3567314 ]\n",
            " [ 0.5161693 ]\n",
            " [ 0.5997964 ]\n",
            " [ 0.6197977 ]\n",
            " [ 0.2484023 ]\n",
            " [ 0.3997505 ]\n",
            " [ 0.4770298 ]\n",
            " [ 0.24393564]\n",
            " [ 0.48459902]\n",
            " [ 0.182758  ]\n",
            " [ 0.20793009]\n",
            " [ 0.484023  ]\n",
            " [ 0.3732098 ]\n",
            " [ 0.30727038]\n",
            " [ 0.5487671 ]\n",
            " [ 0.69384336]\n",
            " [ 0.33171937]\n",
            " [ 0.28558078]\n",
            " [ 0.52587616]\n",
            " [ 0.6055865 ]]\n"
          ]
        }
      ]
    },
    {
      "cell_type": "code",
      "source": [
        "Predictions=pd.DataFrame(predictions)\n",
        "Predictions.columns = [\"Predictions\"]\n",
        "Predictions.head()\n"
      ],
      "metadata": {
        "colab": {
          "base_uri": "https://localhost:8080/",
          "height": 206
        },
        "id": "-bcYkZM2lsg-",
        "outputId": "b346d30d-193b-4a5c-e684-da6ef98c73e0"
      },
      "execution_count": 30,
      "outputs": [
        {
          "output_type": "execute_result",
          "data": {
            "text/plain": [
              "   Predictions\n",
              "0     0.225018\n",
              "1     0.311450\n",
              "2     0.589602\n",
              "3     0.373654\n",
              "4     0.273409"
            ],
            "text/html": [
              "\n",
              "  <div id=\"df-7b4ad2ef-240c-40d0-927c-852c7e58b554\">\n",
              "    <div class=\"colab-df-container\">\n",
              "      <div>\n",
              "<style scoped>\n",
              "    .dataframe tbody tr th:only-of-type {\n",
              "        vertical-align: middle;\n",
              "    }\n",
              "\n",
              "    .dataframe tbody tr th {\n",
              "        vertical-align: top;\n",
              "    }\n",
              "\n",
              "    .dataframe thead th {\n",
              "        text-align: right;\n",
              "    }\n",
              "</style>\n",
              "<table border=\"1\" class=\"dataframe\">\n",
              "  <thead>\n",
              "    <tr style=\"text-align: right;\">\n",
              "      <th></th>\n",
              "      <th>Predictions</th>\n",
              "    </tr>\n",
              "  </thead>\n",
              "  <tbody>\n",
              "    <tr>\n",
              "      <th>0</th>\n",
              "      <td>0.225018</td>\n",
              "    </tr>\n",
              "    <tr>\n",
              "      <th>1</th>\n",
              "      <td>0.311450</td>\n",
              "    </tr>\n",
              "    <tr>\n",
              "      <th>2</th>\n",
              "      <td>0.589602</td>\n",
              "    </tr>\n",
              "    <tr>\n",
              "      <th>3</th>\n",
              "      <td>0.373654</td>\n",
              "    </tr>\n",
              "    <tr>\n",
              "      <th>4</th>\n",
              "      <td>0.273409</td>\n",
              "    </tr>\n",
              "  </tbody>\n",
              "</table>\n",
              "</div>\n",
              "      <button class=\"colab-df-convert\" onclick=\"convertToInteractive('df-7b4ad2ef-240c-40d0-927c-852c7e58b554')\"\n",
              "              title=\"Convert this dataframe to an interactive table.\"\n",
              "              style=\"display:none;\">\n",
              "        \n",
              "  <svg xmlns=\"http://www.w3.org/2000/svg\" height=\"24px\"viewBox=\"0 0 24 24\"\n",
              "       width=\"24px\">\n",
              "    <path d=\"M0 0h24v24H0V0z\" fill=\"none\"/>\n",
              "    <path d=\"M18.56 5.44l.94 2.06.94-2.06 2.06-.94-2.06-.94-.94-2.06-.94 2.06-2.06.94zm-11 1L8.5 8.5l.94-2.06 2.06-.94-2.06-.94L8.5 2.5l-.94 2.06-2.06.94zm10 10l.94 2.06.94-2.06 2.06-.94-2.06-.94-.94-2.06-.94 2.06-2.06.94z\"/><path d=\"M17.41 7.96l-1.37-1.37c-.4-.4-.92-.59-1.43-.59-.52 0-1.04.2-1.43.59L10.3 9.45l-7.72 7.72c-.78.78-.78 2.05 0 2.83L4 21.41c.39.39.9.59 1.41.59.51 0 1.02-.2 1.41-.59l7.78-7.78 2.81-2.81c.8-.78.8-2.07 0-2.86zM5.41 20L4 18.59l7.72-7.72 1.47 1.35L5.41 20z\"/>\n",
              "  </svg>\n",
              "      </button>\n",
              "      \n",
              "  <style>\n",
              "    .colab-df-container {\n",
              "      display:flex;\n",
              "      flex-wrap:wrap;\n",
              "      gap: 12px;\n",
              "    }\n",
              "\n",
              "    .colab-df-convert {\n",
              "      background-color: #E8F0FE;\n",
              "      border: none;\n",
              "      border-radius: 50%;\n",
              "      cursor: pointer;\n",
              "      display: none;\n",
              "      fill: #1967D2;\n",
              "      height: 32px;\n",
              "      padding: 0 0 0 0;\n",
              "      width: 32px;\n",
              "    }\n",
              "\n",
              "    .colab-df-convert:hover {\n",
              "      background-color: #E2EBFA;\n",
              "      box-shadow: 0px 1px 2px rgba(60, 64, 67, 0.3), 0px 1px 3px 1px rgba(60, 64, 67, 0.15);\n",
              "      fill: #174EA6;\n",
              "    }\n",
              "\n",
              "    [theme=dark] .colab-df-convert {\n",
              "      background-color: #3B4455;\n",
              "      fill: #D2E3FC;\n",
              "    }\n",
              "\n",
              "    [theme=dark] .colab-df-convert:hover {\n",
              "      background-color: #434B5C;\n",
              "      box-shadow: 0px 1px 3px 1px rgba(0, 0, 0, 0.15);\n",
              "      filter: drop-shadow(0px 1px 2px rgba(0, 0, 0, 0.3));\n",
              "      fill: #FFFFFF;\n",
              "    }\n",
              "  </style>\n",
              "\n",
              "      <script>\n",
              "        const buttonEl =\n",
              "          document.querySelector('#df-7b4ad2ef-240c-40d0-927c-852c7e58b554 button.colab-df-convert');\n",
              "        buttonEl.style.display =\n",
              "          google.colab.kernel.accessAllowed ? 'block' : 'none';\n",
              "\n",
              "        async function convertToInteractive(key) {\n",
              "          const element = document.querySelector('#df-7b4ad2ef-240c-40d0-927c-852c7e58b554');\n",
              "          const dataTable =\n",
              "            await google.colab.kernel.invokeFunction('convertToInteractive',\n",
              "                                                     [key], {});\n",
              "          if (!dataTable) return;\n",
              "\n",
              "          const docLinkHtml = 'Like what you see? Visit the ' +\n",
              "            '<a target=\"_blank\" href=https://colab.research.google.com/notebooks/data_table.ipynb>data table notebook</a>'\n",
              "            + ' to learn more about interactive tables.';\n",
              "          element.innerHTML = '';\n",
              "          dataTable['output_type'] = 'display_data';\n",
              "          await google.colab.output.renderOutput(dataTable, element);\n",
              "          const docLink = document.createElement('div');\n",
              "          docLink.innerHTML = docLinkHtml;\n",
              "          element.appendChild(docLink);\n",
              "        }\n",
              "      </script>\n",
              "    </div>\n",
              "  </div>\n",
              "  "
            ]
          },
          "metadata": {},
          "execution_count": 30
        }
      ]
    },
    {
      "cell_type": "code",
      "source": [
        "RealPredictions=pd.concat([inf,Predictions],axis=1)\n",
        "RealPredictions=pd.DataFrame(RealPredictions)\n",
        "RealPredictions.head()"
      ],
      "metadata": {
        "colab": {
          "base_uri": "https://localhost:8080/",
          "height": 206
        },
        "id": "zsVbij-Jlyhz",
        "outputId": "f6722976-f76c-42ac-fe41-9dbdbab0672c"
      },
      "execution_count": 31,
      "outputs": [
        {
          "output_type": "execute_result",
          "data": {
            "text/plain": [
              "      Fecha  inpc  Predictions\n",
              "0  Ene 2000  1.34     0.225018\n",
              "1  Feb 2000  0.89     0.311450\n",
              "2  Mar 2000  0.55     0.589602\n",
              "3  Abr 2000  0.57     0.373654\n",
              "4  May 2000  0.37     0.273409"
            ],
            "text/html": [
              "\n",
              "  <div id=\"df-c9e1dc8e-28e6-4b42-9e52-32338720e0e5\">\n",
              "    <div class=\"colab-df-container\">\n",
              "      <div>\n",
              "<style scoped>\n",
              "    .dataframe tbody tr th:only-of-type {\n",
              "        vertical-align: middle;\n",
              "    }\n",
              "\n",
              "    .dataframe tbody tr th {\n",
              "        vertical-align: top;\n",
              "    }\n",
              "\n",
              "    .dataframe thead th {\n",
              "        text-align: right;\n",
              "    }\n",
              "</style>\n",
              "<table border=\"1\" class=\"dataframe\">\n",
              "  <thead>\n",
              "    <tr style=\"text-align: right;\">\n",
              "      <th></th>\n",
              "      <th>Fecha</th>\n",
              "      <th>inpc</th>\n",
              "      <th>Predictions</th>\n",
              "    </tr>\n",
              "  </thead>\n",
              "  <tbody>\n",
              "    <tr>\n",
              "      <th>0</th>\n",
              "      <td>Ene 2000</td>\n",
              "      <td>1.34</td>\n",
              "      <td>0.225018</td>\n",
              "    </tr>\n",
              "    <tr>\n",
              "      <th>1</th>\n",
              "      <td>Feb 2000</td>\n",
              "      <td>0.89</td>\n",
              "      <td>0.311450</td>\n",
              "    </tr>\n",
              "    <tr>\n",
              "      <th>2</th>\n",
              "      <td>Mar 2000</td>\n",
              "      <td>0.55</td>\n",
              "      <td>0.589602</td>\n",
              "    </tr>\n",
              "    <tr>\n",
              "      <th>3</th>\n",
              "      <td>Abr 2000</td>\n",
              "      <td>0.57</td>\n",
              "      <td>0.373654</td>\n",
              "    </tr>\n",
              "    <tr>\n",
              "      <th>4</th>\n",
              "      <td>May 2000</td>\n",
              "      <td>0.37</td>\n",
              "      <td>0.273409</td>\n",
              "    </tr>\n",
              "  </tbody>\n",
              "</table>\n",
              "</div>\n",
              "      <button class=\"colab-df-convert\" onclick=\"convertToInteractive('df-c9e1dc8e-28e6-4b42-9e52-32338720e0e5')\"\n",
              "              title=\"Convert this dataframe to an interactive table.\"\n",
              "              style=\"display:none;\">\n",
              "        \n",
              "  <svg xmlns=\"http://www.w3.org/2000/svg\" height=\"24px\"viewBox=\"0 0 24 24\"\n",
              "       width=\"24px\">\n",
              "    <path d=\"M0 0h24v24H0V0z\" fill=\"none\"/>\n",
              "    <path d=\"M18.56 5.44l.94 2.06.94-2.06 2.06-.94-2.06-.94-.94-2.06-.94 2.06-2.06.94zm-11 1L8.5 8.5l.94-2.06 2.06-.94-2.06-.94L8.5 2.5l-.94 2.06-2.06.94zm10 10l.94 2.06.94-2.06 2.06-.94-2.06-.94-.94-2.06-.94 2.06-2.06.94z\"/><path d=\"M17.41 7.96l-1.37-1.37c-.4-.4-.92-.59-1.43-.59-.52 0-1.04.2-1.43.59L10.3 9.45l-7.72 7.72c-.78.78-.78 2.05 0 2.83L4 21.41c.39.39.9.59 1.41.59.51 0 1.02-.2 1.41-.59l7.78-7.78 2.81-2.81c.8-.78.8-2.07 0-2.86zM5.41 20L4 18.59l7.72-7.72 1.47 1.35L5.41 20z\"/>\n",
              "  </svg>\n",
              "      </button>\n",
              "      \n",
              "  <style>\n",
              "    .colab-df-container {\n",
              "      display:flex;\n",
              "      flex-wrap:wrap;\n",
              "      gap: 12px;\n",
              "    }\n",
              "\n",
              "    .colab-df-convert {\n",
              "      background-color: #E8F0FE;\n",
              "      border: none;\n",
              "      border-radius: 50%;\n",
              "      cursor: pointer;\n",
              "      display: none;\n",
              "      fill: #1967D2;\n",
              "      height: 32px;\n",
              "      padding: 0 0 0 0;\n",
              "      width: 32px;\n",
              "    }\n",
              "\n",
              "    .colab-df-convert:hover {\n",
              "      background-color: #E2EBFA;\n",
              "      box-shadow: 0px 1px 2px rgba(60, 64, 67, 0.3), 0px 1px 3px 1px rgba(60, 64, 67, 0.15);\n",
              "      fill: #174EA6;\n",
              "    }\n",
              "\n",
              "    [theme=dark] .colab-df-convert {\n",
              "      background-color: #3B4455;\n",
              "      fill: #D2E3FC;\n",
              "    }\n",
              "\n",
              "    [theme=dark] .colab-df-convert:hover {\n",
              "      background-color: #434B5C;\n",
              "      box-shadow: 0px 1px 3px 1px rgba(0, 0, 0, 0.15);\n",
              "      filter: drop-shadow(0px 1px 2px rgba(0, 0, 0, 0.3));\n",
              "      fill: #FFFFFF;\n",
              "    }\n",
              "  </style>\n",
              "\n",
              "      <script>\n",
              "        const buttonEl =\n",
              "          document.querySelector('#df-c9e1dc8e-28e6-4b42-9e52-32338720e0e5 button.colab-df-convert');\n",
              "        buttonEl.style.display =\n",
              "          google.colab.kernel.accessAllowed ? 'block' : 'none';\n",
              "\n",
              "        async function convertToInteractive(key) {\n",
              "          const element = document.querySelector('#df-c9e1dc8e-28e6-4b42-9e52-32338720e0e5');\n",
              "          const dataTable =\n",
              "            await google.colab.kernel.invokeFunction('convertToInteractive',\n",
              "                                                     [key], {});\n",
              "          if (!dataTable) return;\n",
              "\n",
              "          const docLinkHtml = 'Like what you see? Visit the ' +\n",
              "            '<a target=\"_blank\" href=https://colab.research.google.com/notebooks/data_table.ipynb>data table notebook</a>'\n",
              "            + ' to learn more about interactive tables.';\n",
              "          element.innerHTML = '';\n",
              "          dataTable['output_type'] = 'display_data';\n",
              "          await google.colab.output.renderOutput(dataTable, element);\n",
              "          const docLink = document.createElement('div');\n",
              "          docLink.innerHTML = docLinkHtml;\n",
              "          element.appendChild(docLink);\n",
              "        }\n",
              "      </script>\n",
              "    </div>\n",
              "  </div>\n",
              "  "
            ]
          },
          "metadata": {},
          "execution_count": 31
        }
      ]
    },
    {
      "cell_type": "code",
      "source": [
        "RealPredictions.plot(y=['Predictions','inpc'])"
      ],
      "metadata": {
        "colab": {
          "base_uri": "https://localhost:8080/",
          "height": 448
        },
        "id": "fRvjC1nGl2Qn",
        "outputId": "e2bfc12c-ba63-44f1-88a8-b718d0542b15"
      },
      "execution_count": 32,
      "outputs": [
        {
          "output_type": "execute_result",
          "data": {
            "text/plain": [
              "<Axes: >"
            ]
          },
          "metadata": {},
          "execution_count": 32
        },
        {
          "output_type": "display_data",
          "data": {
            "text/plain": [
              "<Figure size 640x480 with 1 Axes>"
            ],
            "image/png": "[encoded data removed]"
          },
          "metadata": {}
        }
      ]
    },
    {
      "cell_type": "code",
      "source": [
        "# demonstrate prediction\n",
        "\n",
        "import random\n",
        "x_inputl=[]\n",
        "for e in range(20):\n",
        "  x_input = array( [random.uniform(0, 10) for _ in range(20)] )\n",
        "  x_input = x_input.reshape((1, 20))\n",
        "  x_inputl.append(x_input)\n",
        "  yhat = model.predict(x_input, verbose=0)\n",
        "  print(yhat)"
      ],
      "metadata": {
        "colab": {
          "base_uri": "https://localhost:8080/"
        },
        "id": "dQ9cGZaKl53D",
        "outputId": "3780bd24-8732-4024-e4c3-77041237e41a"
      },
      "execution_count": 40,
      "outputs": [
        {
          "output_type": "stream",
          "name": "stdout",
          "text": [
            "[[-0.16635743]]\n",
            "[[0.8890749]]\n",
            "[[0.1064454]]\n",
            "[[3.173777]]\n",
            "[[0.8680781]]\n",
            "[[6.004243]]\n",
            "[[0.03136167]]\n",
            "[[1.6585332]]\n",
            "[[2.8249335]]\n",
            "[[-0.42644253]]\n",
            "[[2.2792926]]\n",
            "[[0.13591155]]\n",
            "[[1.113608]]\n",
            "[[0.3558291]]\n",
            "[[-0.24699011]]\n",
            "[[4.1298747]]\n",
            "[[1.8631822]]\n",
            "[[4.0994163]]\n",
            "[[4.15]]\n",
            "[[2.8060832]]\n"
          ]
        }
      ]
    },
    {
      "cell_type": "code",
      "source": [
        "from sklearn.metrics import mean_absolute_error\n",
        "\n",
        "mae = mean_absolute_error(y, predictions)\n",
        "print(\"MAE:\", mae)"
      ],
      "metadata": {
        "colab": {
          "base_uri": "https://localhost:8080/"
        },
        "id": "L5cYdp8-Ycy9",
        "outputId": "de5471aa-93ff-41ea-99b7-4c70514e0d16"
      },
      "execution_count": 34,
      "outputs": [
        {
          "output_type": "stream",
          "name": "stdout",
          "text": [
            "MAE: 0.2525330788848492\n"
          ]
        }
      ]
    },
    {
      "cell_type": "code",
      "source": [
        "##########\n",
        "# Modelo 2"
      ],
      "metadata": {
        "id": "56ReB8H2dxEG"
      },
      "execution_count": null,
      "outputs": []
    },
    {
      "cell_type": "code",
      "source": [
        "n=20\n",
        "hidden_neurons= (4*n**2 + 3) / (n**2-8)\n",
        "hidden_neurons  #4 "
      ],
      "metadata": {
        "colab": {
          "base_uri": "https://localhost:8080/"
        },
        "id": "VcwYoP51ZKBt",
        "outputId": "8aa00cde-3390-4f45-ed8d-d289296bbdec"
      },
      "execution_count": 35,
      "outputs": [
        {
          "output_type": "execute_result",
          "data": {
            "text/plain": [
              "4.089285714285714"
            ]
          },
          "metadata": {},
          "execution_count": 35
        }
      ]
    },
    {
      "cell_type": "code",
      "source": [
        "model2 = Sequential()\n",
        "model2.add(Dense(4, activation='relu', input_dim=20)) #solo 1 hidden layer de 4 neuronas\n",
        "model2.add(Dense(1))\n",
        "model2.compile(loss='mean_squared_error', optimizer='SGD', metrics=['accuracy'])"
      ],
      "metadata": {
        "id": "w15mM-56d4K4"
      },
      "execution_count": 36,
      "outputs": []
    },
    {
      "cell_type": "code",
      "source": [
        "#TRAIN THE MODEL\n",
        "model2.fit(X, y, epochs=10, batch_size=10)\n",
        "\n",
        "#PREDICCIONES`\n",
        "print(\"Generate predictions for 3 samples\")\n",
        "predictions2 = model2.predict(X)\n",
        "print(\"predictions shape:\", predictions2)\n"
      ],
      "metadata": {
        "id": "xRtA6xbXeQq6"
      },
      "execution_count": null,
      "outputs": []
    },
    {
      "cell_type": "code",
      "source": [
        "for e in range(len(x_inputl)):\n",
        "  yhat2 = model2.predict(x_inputl[e], verbose=0)\n",
        "  print(yhat2)"
      ],
      "metadata": {
        "colab": {
          "base_uri": "https://localhost:8080/"
        },
        "id": "XpKzObyoe-Zm",
        "outputId": "e9415b19-e884-4a63-f2b2-ee1e1e4dd5b3"
      },
      "execution_count": 42,
      "outputs": [
        {
          "output_type": "stream",
          "name": "stdout",
          "text": [
            "[[-2.5169694]]\n",
            "[[2.7688248]]\n",
            "[[0.3167831]]\n",
            "[[0.5000251]]\n",
            "[[1.4159817]]\n",
            "[[-0.18529543]]\n",
            "[[0.3167831]]\n",
            "[[0.8085749]]\n",
            "[[0.3167831]]\n",
            "[[0.3167831]]\n",
            "[[0.3167831]]\n",
            "[[-0.6985159]]\n",
            "[[-4.083275]]\n",
            "[[-3.6073267]]\n",
            "[[0.3167831]]\n",
            "[[-4.3688707]]\n",
            "[[-1.1170949]]\n",
            "[[-1.5913063]]\n",
            "[[-1.1115128]]\n",
            "[[-0.94726825]]\n"
          ]
        }
      ]
    },
    {
      "cell_type": "code",
      "source": [
        "mae2 = mean_absolute_error(y, predictions2)\n",
        "print(\"MAE:\", mae2)"
      ],
      "metadata": {
        "colab": {
          "base_uri": "https://localhost:8080/"
        },
        "id": "bdV2hP1hfm0N",
        "outputId": "cd1b2206-b395-4a63-d711-a22a05734ba5"
      },
      "execution_count": 43,
      "outputs": [
        {
          "output_type": "stream",
          "name": "stdout",
          "text": [
            "MAE: 0.25917614382046916\n"
          ]
        }
      ]
    }
  ]
}